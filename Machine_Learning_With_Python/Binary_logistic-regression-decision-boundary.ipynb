{
 "cells": [
  {
   "cell_type": "markdown",
   "id": "bae3626d",
   "metadata": {
    "papermill": {
     "duration": 0.030527,
     "end_time": "2022-03-16T15:18:57.195081",
     "exception": false,
     "start_time": "2022-03-16T15:18:57.164554",
     "status": "completed"
    },
    "tags": []
   },
   "source": [
    "**Problem Statement:** We are given a dataset that contains weights and sizes of Apples and Oranges. We have to classify this data such that given the weight and size of a new fruit, we should predict whether it's an apple or an orange. In this notebook we will apply Logistic Regression for this classification."
   ]
  },
  {
   "cell_type": "code",
   "execution_count": 1,
   "id": "14dbe231",
   "metadata": {
    "_cell_guid": "b1076dfc-b9ad-4769-8c92-a6c4dae69d19",
    "_uuid": "8f2839f25d086af736a60e9eeb907d3b93b6e0e5",
    "execution": {
     "iopub.execute_input": "2022-03-16T15:18:57.268615Z",
     "iopub.status.busy": "2022-03-16T15:18:57.267955Z",
     "iopub.status.idle": "2022-03-16T15:18:58.581320Z",
     "shell.execute_reply": "2022-03-16T15:18:58.580414Z",
     "shell.execute_reply.started": "2022-03-16T15:14:28.581479Z"
    },
    "papermill": {
     "duration": 1.356297,
     "end_time": "2022-03-16T15:18:58.581539",
     "exception": false,
     "start_time": "2022-03-16T15:18:57.225242",
     "status": "completed"
    },
    "tags": []
   },
   "outputs": [],
   "source": [
    "# Importing libraries\n",
    "import numpy as np\n",
    "import pandas as pd\n",
    "import matplotlib.pyplot as plt\n",
    "import seaborn as sns\n",
    "from sklearn.preprocessing import LabelEncoder\n",
    "from sklearn.linear_model import LogisticRegression\n",
    "from sklearn.metrics import accuracy_score, confusion_matrix\n",
    "\n",
    "sns.set()"
   ]
  },
  {
   "cell_type": "code",
   "execution_count": 2,
   "id": "26b908ef",
   "metadata": {
    "execution": {
     "iopub.execute_input": "2022-03-16T15:18:58.648366Z",
     "iopub.status.busy": "2022-03-16T15:18:58.647494Z",
     "iopub.status.idle": "2022-03-16T15:18:58.663953Z",
     "shell.execute_reply": "2022-03-16T15:18:58.664607Z",
     "shell.execute_reply.started": "2022-03-16T15:14:29.178680Z"
    },
    "papermill": {
     "duration": 0.053382,
     "end_time": "2022-03-16T15:18:58.664846",
     "exception": false,
     "start_time": "2022-03-16T15:18:58.611464",
     "status": "completed"
    },
    "tags": []
   },
   "outputs": [],
   "source": [
    "# Importing the dataset\n",
    "dataset = pd.read_csv('../input/classification-data-apples-oranges/apples_and_oranges.csv')"
   ]
  },
  {
   "cell_type": "code",
   "execution_count": 3,
   "id": "6468b18e",
   "metadata": {
    "execution": {
     "iopub.execute_input": "2022-03-16T15:18:58.733395Z",
     "iopub.status.busy": "2022-03-16T15:18:58.732422Z",
     "iopub.status.idle": "2022-03-16T15:18:58.751475Z",
     "shell.execute_reply": "2022-03-16T15:18:58.752016Z",
     "shell.execute_reply.started": "2022-03-16T15:14:29.192968Z"
    },
    "papermill": {
     "duration": 0.057215,
     "end_time": "2022-03-16T15:18:58.752211",
     "exception": false,
     "start_time": "2022-03-16T15:18:58.694996",
     "status": "completed"
    },
    "tags": []
   },
   "outputs": [
    {
     "data": {
      "text/html": [
       "<div>\n",
       "<style scoped>\n",
       "    .dataframe tbody tr th:only-of-type {\n",
       "        vertical-align: middle;\n",
       "    }\n",
       "\n",
       "    .dataframe tbody tr th {\n",
       "        vertical-align: top;\n",
       "    }\n",
       "\n",
       "    .dataframe thead th {\n",
       "        text-align: right;\n",
       "    }\n",
       "</style>\n",
       "<table border=\"1\" class=\"dataframe\">\n",
       "  <thead>\n",
       "    <tr style=\"text-align: right;\">\n",
       "      <th></th>\n",
       "      <th>Weight</th>\n",
       "      <th>Size</th>\n",
       "      <th>Class</th>\n",
       "    </tr>\n",
       "  </thead>\n",
       "  <tbody>\n",
       "    <tr>\n",
       "      <th>0</th>\n",
       "      <td>69</td>\n",
       "      <td>4.39</td>\n",
       "      <td>orange</td>\n",
       "    </tr>\n",
       "    <tr>\n",
       "      <th>1</th>\n",
       "      <td>69</td>\n",
       "      <td>4.21</td>\n",
       "      <td>orange</td>\n",
       "    </tr>\n",
       "    <tr>\n",
       "      <th>2</th>\n",
       "      <td>65</td>\n",
       "      <td>4.09</td>\n",
       "      <td>orange</td>\n",
       "    </tr>\n",
       "    <tr>\n",
       "      <th>3</th>\n",
       "      <td>72</td>\n",
       "      <td>5.85</td>\n",
       "      <td>apple</td>\n",
       "    </tr>\n",
       "    <tr>\n",
       "      <th>4</th>\n",
       "      <td>67</td>\n",
       "      <td>4.70</td>\n",
       "      <td>orange</td>\n",
       "    </tr>\n",
       "    <tr>\n",
       "      <th>5</th>\n",
       "      <td>73</td>\n",
       "      <td>5.68</td>\n",
       "      <td>apple</td>\n",
       "    </tr>\n",
       "    <tr>\n",
       "      <th>6</th>\n",
       "      <td>70</td>\n",
       "      <td>5.56</td>\n",
       "      <td>apple</td>\n",
       "    </tr>\n",
       "    <tr>\n",
       "      <th>7</th>\n",
       "      <td>75</td>\n",
       "      <td>5.11</td>\n",
       "      <td>apple</td>\n",
       "    </tr>\n",
       "    <tr>\n",
       "      <th>8</th>\n",
       "      <td>74</td>\n",
       "      <td>5.36</td>\n",
       "      <td>apple</td>\n",
       "    </tr>\n",
       "    <tr>\n",
       "      <th>9</th>\n",
       "      <td>65</td>\n",
       "      <td>4.27</td>\n",
       "      <td>orange</td>\n",
       "    </tr>\n",
       "    <tr>\n",
       "      <th>10</th>\n",
       "      <td>73</td>\n",
       "      <td>5.79</td>\n",
       "      <td>apple</td>\n",
       "    </tr>\n",
       "    <tr>\n",
       "      <th>11</th>\n",
       "      <td>70</td>\n",
       "      <td>5.47</td>\n",
       "      <td>apple</td>\n",
       "    </tr>\n",
       "    <tr>\n",
       "      <th>12</th>\n",
       "      <td>74</td>\n",
       "      <td>5.53</td>\n",
       "      <td>apple</td>\n",
       "    </tr>\n",
       "    <tr>\n",
       "      <th>13</th>\n",
       "      <td>68</td>\n",
       "      <td>4.47</td>\n",
       "      <td>orange</td>\n",
       "    </tr>\n",
       "    <tr>\n",
       "      <th>14</th>\n",
       "      <td>74</td>\n",
       "      <td>5.22</td>\n",
       "      <td>apple</td>\n",
       "    </tr>\n",
       "    <tr>\n",
       "      <th>15</th>\n",
       "      <td>65</td>\n",
       "      <td>4.48</td>\n",
       "      <td>orange</td>\n",
       "    </tr>\n",
       "    <tr>\n",
       "      <th>16</th>\n",
       "      <td>69</td>\n",
       "      <td>4.66</td>\n",
       "      <td>orange</td>\n",
       "    </tr>\n",
       "    <tr>\n",
       "      <th>17</th>\n",
       "      <td>75</td>\n",
       "      <td>5.25</td>\n",
       "      <td>apple</td>\n",
       "    </tr>\n",
       "    <tr>\n",
       "      <th>18</th>\n",
       "      <td>67</td>\n",
       "      <td>4.18</td>\n",
       "      <td>orange</td>\n",
       "    </tr>\n",
       "    <tr>\n",
       "      <th>19</th>\n",
       "      <td>74</td>\n",
       "      <td>5.50</td>\n",
       "      <td>apple</td>\n",
       "    </tr>\n",
       "    <tr>\n",
       "      <th>20</th>\n",
       "      <td>66</td>\n",
       "      <td>4.13</td>\n",
       "      <td>orange</td>\n",
       "    </tr>\n",
       "    <tr>\n",
       "      <th>21</th>\n",
       "      <td>70</td>\n",
       "      <td>4.83</td>\n",
       "      <td>orange</td>\n",
       "    </tr>\n",
       "    <tr>\n",
       "      <th>22</th>\n",
       "      <td>69</td>\n",
       "      <td>4.61</td>\n",
       "      <td>orange</td>\n",
       "    </tr>\n",
       "    <tr>\n",
       "      <th>23</th>\n",
       "      <td>68</td>\n",
       "      <td>4.08</td>\n",
       "      <td>orange</td>\n",
       "    </tr>\n",
       "    <tr>\n",
       "      <th>24</th>\n",
       "      <td>67</td>\n",
       "      <td>4.25</td>\n",
       "      <td>orange</td>\n",
       "    </tr>\n",
       "    <tr>\n",
       "      <th>25</th>\n",
       "      <td>71</td>\n",
       "      <td>5.35</td>\n",
       "      <td>apple</td>\n",
       "    </tr>\n",
       "    <tr>\n",
       "      <th>26</th>\n",
       "      <td>67</td>\n",
       "      <td>4.01</td>\n",
       "      <td>orange</td>\n",
       "    </tr>\n",
       "    <tr>\n",
       "      <th>27</th>\n",
       "      <td>70</td>\n",
       "      <td>4.22</td>\n",
       "      <td>orange</td>\n",
       "    </tr>\n",
       "    <tr>\n",
       "      <th>28</th>\n",
       "      <td>74</td>\n",
       "      <td>5.25</td>\n",
       "      <td>apple</td>\n",
       "    </tr>\n",
       "    <tr>\n",
       "      <th>29</th>\n",
       "      <td>71</td>\n",
       "      <td>5.26</td>\n",
       "      <td>apple</td>\n",
       "    </tr>\n",
       "    <tr>\n",
       "      <th>30</th>\n",
       "      <td>73</td>\n",
       "      <td>5.78</td>\n",
       "      <td>apple</td>\n",
       "    </tr>\n",
       "    <tr>\n",
       "      <th>31</th>\n",
       "      <td>66</td>\n",
       "      <td>4.68</td>\n",
       "      <td>orange</td>\n",
       "    </tr>\n",
       "    <tr>\n",
       "      <th>32</th>\n",
       "      <td>72</td>\n",
       "      <td>5.72</td>\n",
       "      <td>apple</td>\n",
       "    </tr>\n",
       "    <tr>\n",
       "      <th>33</th>\n",
       "      <td>73</td>\n",
       "      <td>5.17</td>\n",
       "      <td>apple</td>\n",
       "    </tr>\n",
       "    <tr>\n",
       "      <th>34</th>\n",
       "      <td>68</td>\n",
       "      <td>4.83</td>\n",
       "      <td>orange</td>\n",
       "    </tr>\n",
       "    <tr>\n",
       "      <th>35</th>\n",
       "      <td>69</td>\n",
       "      <td>4.11</td>\n",
       "      <td>orange</td>\n",
       "    </tr>\n",
       "    <tr>\n",
       "      <th>36</th>\n",
       "      <td>69</td>\n",
       "      <td>4.76</td>\n",
       "      <td>orange</td>\n",
       "    </tr>\n",
       "    <tr>\n",
       "      <th>37</th>\n",
       "      <td>74</td>\n",
       "      <td>5.48</td>\n",
       "      <td>apple</td>\n",
       "    </tr>\n",
       "    <tr>\n",
       "      <th>38</th>\n",
       "      <td>70</td>\n",
       "      <td>5.59</td>\n",
       "      <td>apple</td>\n",
       "    </tr>\n",
       "    <tr>\n",
       "      <th>39</th>\n",
       "      <td>73</td>\n",
       "      <td>5.03</td>\n",
       "      <td>apple</td>\n",
       "    </tr>\n",
       "  </tbody>\n",
       "</table>\n",
       "</div>"
      ],
      "text/plain": [
       "    Weight  Size   Class\n",
       "0       69  4.39  orange\n",
       "1       69  4.21  orange\n",
       "2       65  4.09  orange\n",
       "3       72  5.85   apple\n",
       "4       67  4.70  orange\n",
       "5       73  5.68   apple\n",
       "6       70  5.56   apple\n",
       "7       75  5.11   apple\n",
       "8       74  5.36   apple\n",
       "9       65  4.27  orange\n",
       "10      73  5.79   apple\n",
       "11      70  5.47   apple\n",
       "12      74  5.53   apple\n",
       "13      68  4.47  orange\n",
       "14      74  5.22   apple\n",
       "15      65  4.48  orange\n",
       "16      69  4.66  orange\n",
       "17      75  5.25   apple\n",
       "18      67  4.18  orange\n",
       "19      74  5.50   apple\n",
       "20      66  4.13  orange\n",
       "21      70  4.83  orange\n",
       "22      69  4.61  orange\n",
       "23      68  4.08  orange\n",
       "24      67  4.25  orange\n",
       "25      71  5.35   apple\n",
       "26      67  4.01  orange\n",
       "27      70  4.22  orange\n",
       "28      74  5.25   apple\n",
       "29      71  5.26   apple\n",
       "30      73  5.78   apple\n",
       "31      66  4.68  orange\n",
       "32      72  5.72   apple\n",
       "33      73  5.17   apple\n",
       "34      68  4.83  orange\n",
       "35      69  4.11  orange\n",
       "36      69  4.76  orange\n",
       "37      74  5.48   apple\n",
       "38      70  5.59   apple\n",
       "39      73  5.03   apple"
      ]
     },
     "execution_count": 3,
     "metadata": {},
     "output_type": "execute_result"
    }
   ],
   "source": [
    "# Looking through the dataset\n",
    "dataset"
   ]
  },
  {
   "cell_type": "markdown",
   "id": "efa77c0e",
   "metadata": {
    "papermill": {
     "duration": 0.030344,
     "end_time": "2022-03-16T15:18:58.815515",
     "exception": false,
     "start_time": "2022-03-16T15:18:58.785171",
     "status": "completed"
    },
    "tags": []
   },
   "source": [
    "We can observe that there are no missing values."
   ]
  },
  {
   "cell_type": "code",
   "execution_count": 4,
   "id": "d1eb1245",
   "metadata": {
    "execution": {
     "iopub.execute_input": "2022-03-16T15:18:58.882494Z",
     "iopub.status.busy": "2022-03-16T15:18:58.881582Z",
     "iopub.status.idle": "2022-03-16T15:18:58.887200Z",
     "shell.execute_reply": "2022-03-16T15:18:58.887825Z",
     "shell.execute_reply.started": "2022-03-16T15:14:29.219696Z"
    },
    "papermill": {
     "duration": 0.041624,
     "end_time": "2022-03-16T15:18:58.888059",
     "exception": false,
     "start_time": "2022-03-16T15:18:58.846435",
     "status": "completed"
    },
    "tags": []
   },
   "outputs": [
    {
     "data": {
      "text/plain": [
       "(40, 3)"
      ]
     },
     "execution_count": 4,
     "metadata": {},
     "output_type": "execute_result"
    }
   ],
   "source": [
    "# No. of rows and columns\n",
    "dataset.shape"
   ]
  },
  {
   "cell_type": "code",
   "execution_count": 5,
   "id": "f279dc81",
   "metadata": {
    "execution": {
     "iopub.execute_input": "2022-03-16T15:18:58.962534Z",
     "iopub.status.busy": "2022-03-16T15:18:58.954604Z",
     "iopub.status.idle": "2022-03-16T15:18:58.968391Z",
     "shell.execute_reply": "2022-03-16T15:18:58.969089Z",
     "shell.execute_reply.started": "2022-03-16T15:14:29.227101Z"
    },
    "papermill": {
     "duration": 0.049401,
     "end_time": "2022-03-16T15:18:58.969297",
     "exception": false,
     "start_time": "2022-03-16T15:18:58.919896",
     "status": "completed"
    },
    "tags": []
   },
   "outputs": [
    {
     "data": {
      "text/plain": [
       "orange    20\n",
       "apple     20\n",
       "Name: Class, dtype: int64"
      ]
     },
     "execution_count": 5,
     "metadata": {},
     "output_type": "execute_result"
    }
   ],
   "source": [
    "# No. of apples and oranges\n",
    "dataset['Class'].value_counts()"
   ]
  },
  {
   "cell_type": "markdown",
   "id": "2dfa1ffe",
   "metadata": {
    "papermill": {
     "duration": 0.031386,
     "end_time": "2022-03-16T15:18:59.033370",
     "exception": false,
     "start_time": "2022-03-16T15:18:59.001984",
     "status": "completed"
    },
    "tags": []
   },
   "source": [
    "## Encoding Target"
   ]
  },
  {
   "cell_type": "code",
   "execution_count": 6,
   "id": "9a9c6b7c",
   "metadata": {
    "execution": {
     "iopub.execute_input": "2022-03-16T15:18:59.104168Z",
     "iopub.status.busy": "2022-03-16T15:18:59.102932Z",
     "iopub.status.idle": "2022-03-16T15:18:59.105043Z",
     "shell.execute_reply": "2022-03-16T15:18:59.105538Z",
     "shell.execute_reply.started": "2022-03-16T15:14:29.242229Z"
    },
    "papermill": {
     "duration": 0.040154,
     "end_time": "2022-03-16T15:18:59.105709",
     "exception": false,
     "start_time": "2022-03-16T15:18:59.065555",
     "status": "completed"
    },
    "tags": []
   },
   "outputs": [],
   "source": [
    "le = LabelEncoder()"
   ]
  },
  {
   "cell_type": "code",
   "execution_count": 7,
   "id": "265822fc",
   "metadata": {
    "execution": {
     "iopub.execute_input": "2022-03-16T15:18:59.171959Z",
     "iopub.status.busy": "2022-03-16T15:18:59.170908Z",
     "iopub.status.idle": "2022-03-16T15:18:59.176011Z",
     "shell.execute_reply": "2022-03-16T15:18:59.176567Z",
     "shell.execute_reply.started": "2022-03-16T15:14:29.255134Z"
    },
    "papermill": {
     "duration": 0.039972,
     "end_time": "2022-03-16T15:18:59.176741",
     "exception": false,
     "start_time": "2022-03-16T15:18:59.136769",
     "status": "completed"
    },
    "tags": []
   },
   "outputs": [],
   "source": [
    "dataset['Class'] = le.fit_transform(dataset['Class'])"
   ]
  },
  {
   "cell_type": "code",
   "execution_count": 8,
   "id": "cb998d39",
   "metadata": {
    "execution": {
     "iopub.execute_input": "2022-03-16T15:18:59.242886Z",
     "iopub.status.busy": "2022-03-16T15:18:59.241881Z",
     "iopub.status.idle": "2022-03-16T15:18:59.247256Z",
     "shell.execute_reply": "2022-03-16T15:18:59.247851Z",
     "shell.execute_reply.started": "2022-03-16T15:14:29.267609Z"
    },
    "papermill": {
     "duration": 0.040338,
     "end_time": "2022-03-16T15:18:59.248061",
     "exception": false,
     "start_time": "2022-03-16T15:18:59.207723",
     "status": "completed"
    },
    "tags": []
   },
   "outputs": [
    {
     "data": {
      "text/plain": [
       "array(['apple', 'orange'], dtype=object)"
      ]
     },
     "execution_count": 8,
     "metadata": {},
     "output_type": "execute_result"
    }
   ],
   "source": [
    "le.classes_"
   ]
  },
  {
   "cell_type": "markdown",
   "id": "07a2b9f6",
   "metadata": {
    "papermill": {
     "duration": 0.031018,
     "end_time": "2022-03-16T15:18:59.310436",
     "exception": false,
     "start_time": "2022-03-16T15:18:59.279418",
     "status": "completed"
    },
    "tags": []
   },
   "source": [
    "This implies that,<br>\n",
    "0 represents Apple<br>\n",
    "1 represents Orange"
   ]
  },
  {
   "cell_type": "code",
   "execution_count": 9,
   "id": "f743b904",
   "metadata": {
    "execution": {
     "iopub.execute_input": "2022-03-16T15:18:59.378708Z",
     "iopub.status.busy": "2022-03-16T15:18:59.377730Z",
     "iopub.status.idle": "2022-03-16T15:18:59.392173Z",
     "shell.execute_reply": "2022-03-16T15:18:59.392746Z",
     "shell.execute_reply.started": "2022-03-16T15:14:29.282494Z"
    },
    "papermill": {
     "duration": 0.049897,
     "end_time": "2022-03-16T15:18:59.392935",
     "exception": false,
     "start_time": "2022-03-16T15:18:59.343038",
     "status": "completed"
    },
    "tags": []
   },
   "outputs": [
    {
     "data": {
      "text/html": [
       "<div>\n",
       "<style scoped>\n",
       "    .dataframe tbody tr th:only-of-type {\n",
       "        vertical-align: middle;\n",
       "    }\n",
       "\n",
       "    .dataframe tbody tr th {\n",
       "        vertical-align: top;\n",
       "    }\n",
       "\n",
       "    .dataframe thead th {\n",
       "        text-align: right;\n",
       "    }\n",
       "</style>\n",
       "<table border=\"1\" class=\"dataframe\">\n",
       "  <thead>\n",
       "    <tr style=\"text-align: right;\">\n",
       "      <th></th>\n",
       "      <th>Weight</th>\n",
       "      <th>Size</th>\n",
       "      <th>Class</th>\n",
       "    </tr>\n",
       "  </thead>\n",
       "  <tbody>\n",
       "    <tr>\n",
       "      <th>0</th>\n",
       "      <td>69</td>\n",
       "      <td>4.39</td>\n",
       "      <td>1</td>\n",
       "    </tr>\n",
       "    <tr>\n",
       "      <th>1</th>\n",
       "      <td>69</td>\n",
       "      <td>4.21</td>\n",
       "      <td>1</td>\n",
       "    </tr>\n",
       "    <tr>\n",
       "      <th>2</th>\n",
       "      <td>65</td>\n",
       "      <td>4.09</td>\n",
       "      <td>1</td>\n",
       "    </tr>\n",
       "    <tr>\n",
       "      <th>3</th>\n",
       "      <td>72</td>\n",
       "      <td>5.85</td>\n",
       "      <td>0</td>\n",
       "    </tr>\n",
       "    <tr>\n",
       "      <th>4</th>\n",
       "      <td>67</td>\n",
       "      <td>4.70</td>\n",
       "      <td>1</td>\n",
       "    </tr>\n",
       "    <tr>\n",
       "      <th>5</th>\n",
       "      <td>73</td>\n",
       "      <td>5.68</td>\n",
       "      <td>0</td>\n",
       "    </tr>\n",
       "    <tr>\n",
       "      <th>6</th>\n",
       "      <td>70</td>\n",
       "      <td>5.56</td>\n",
       "      <td>0</td>\n",
       "    </tr>\n",
       "    <tr>\n",
       "      <th>7</th>\n",
       "      <td>75</td>\n",
       "      <td>5.11</td>\n",
       "      <td>0</td>\n",
       "    </tr>\n",
       "    <tr>\n",
       "      <th>8</th>\n",
       "      <td>74</td>\n",
       "      <td>5.36</td>\n",
       "      <td>0</td>\n",
       "    </tr>\n",
       "    <tr>\n",
       "      <th>9</th>\n",
       "      <td>65</td>\n",
       "      <td>4.27</td>\n",
       "      <td>1</td>\n",
       "    </tr>\n",
       "    <tr>\n",
       "      <th>10</th>\n",
       "      <td>73</td>\n",
       "      <td>5.79</td>\n",
       "      <td>0</td>\n",
       "    </tr>\n",
       "    <tr>\n",
       "      <th>11</th>\n",
       "      <td>70</td>\n",
       "      <td>5.47</td>\n",
       "      <td>0</td>\n",
       "    </tr>\n",
       "    <tr>\n",
       "      <th>12</th>\n",
       "      <td>74</td>\n",
       "      <td>5.53</td>\n",
       "      <td>0</td>\n",
       "    </tr>\n",
       "    <tr>\n",
       "      <th>13</th>\n",
       "      <td>68</td>\n",
       "      <td>4.47</td>\n",
       "      <td>1</td>\n",
       "    </tr>\n",
       "    <tr>\n",
       "      <th>14</th>\n",
       "      <td>74</td>\n",
       "      <td>5.22</td>\n",
       "      <td>0</td>\n",
       "    </tr>\n",
       "    <tr>\n",
       "      <th>15</th>\n",
       "      <td>65</td>\n",
       "      <td>4.48</td>\n",
       "      <td>1</td>\n",
       "    </tr>\n",
       "    <tr>\n",
       "      <th>16</th>\n",
       "      <td>69</td>\n",
       "      <td>4.66</td>\n",
       "      <td>1</td>\n",
       "    </tr>\n",
       "    <tr>\n",
       "      <th>17</th>\n",
       "      <td>75</td>\n",
       "      <td>5.25</td>\n",
       "      <td>0</td>\n",
       "    </tr>\n",
       "    <tr>\n",
       "      <th>18</th>\n",
       "      <td>67</td>\n",
       "      <td>4.18</td>\n",
       "      <td>1</td>\n",
       "    </tr>\n",
       "    <tr>\n",
       "      <th>19</th>\n",
       "      <td>74</td>\n",
       "      <td>5.50</td>\n",
       "      <td>0</td>\n",
       "    </tr>\n",
       "    <tr>\n",
       "      <th>20</th>\n",
       "      <td>66</td>\n",
       "      <td>4.13</td>\n",
       "      <td>1</td>\n",
       "    </tr>\n",
       "    <tr>\n",
       "      <th>21</th>\n",
       "      <td>70</td>\n",
       "      <td>4.83</td>\n",
       "      <td>1</td>\n",
       "    </tr>\n",
       "    <tr>\n",
       "      <th>22</th>\n",
       "      <td>69</td>\n",
       "      <td>4.61</td>\n",
       "      <td>1</td>\n",
       "    </tr>\n",
       "    <tr>\n",
       "      <th>23</th>\n",
       "      <td>68</td>\n",
       "      <td>4.08</td>\n",
       "      <td>1</td>\n",
       "    </tr>\n",
       "    <tr>\n",
       "      <th>24</th>\n",
       "      <td>67</td>\n",
       "      <td>4.25</td>\n",
       "      <td>1</td>\n",
       "    </tr>\n",
       "    <tr>\n",
       "      <th>25</th>\n",
       "      <td>71</td>\n",
       "      <td>5.35</td>\n",
       "      <td>0</td>\n",
       "    </tr>\n",
       "    <tr>\n",
       "      <th>26</th>\n",
       "      <td>67</td>\n",
       "      <td>4.01</td>\n",
       "      <td>1</td>\n",
       "    </tr>\n",
       "    <tr>\n",
       "      <th>27</th>\n",
       "      <td>70</td>\n",
       "      <td>4.22</td>\n",
       "      <td>1</td>\n",
       "    </tr>\n",
       "    <tr>\n",
       "      <th>28</th>\n",
       "      <td>74</td>\n",
       "      <td>5.25</td>\n",
       "      <td>0</td>\n",
       "    </tr>\n",
       "    <tr>\n",
       "      <th>29</th>\n",
       "      <td>71</td>\n",
       "      <td>5.26</td>\n",
       "      <td>0</td>\n",
       "    </tr>\n",
       "    <tr>\n",
       "      <th>30</th>\n",
       "      <td>73</td>\n",
       "      <td>5.78</td>\n",
       "      <td>0</td>\n",
       "    </tr>\n",
       "    <tr>\n",
       "      <th>31</th>\n",
       "      <td>66</td>\n",
       "      <td>4.68</td>\n",
       "      <td>1</td>\n",
       "    </tr>\n",
       "    <tr>\n",
       "      <th>32</th>\n",
       "      <td>72</td>\n",
       "      <td>5.72</td>\n",
       "      <td>0</td>\n",
       "    </tr>\n",
       "    <tr>\n",
       "      <th>33</th>\n",
       "      <td>73</td>\n",
       "      <td>5.17</td>\n",
       "      <td>0</td>\n",
       "    </tr>\n",
       "    <tr>\n",
       "      <th>34</th>\n",
       "      <td>68</td>\n",
       "      <td>4.83</td>\n",
       "      <td>1</td>\n",
       "    </tr>\n",
       "    <tr>\n",
       "      <th>35</th>\n",
       "      <td>69</td>\n",
       "      <td>4.11</td>\n",
       "      <td>1</td>\n",
       "    </tr>\n",
       "    <tr>\n",
       "      <th>36</th>\n",
       "      <td>69</td>\n",
       "      <td>4.76</td>\n",
       "      <td>1</td>\n",
       "    </tr>\n",
       "    <tr>\n",
       "      <th>37</th>\n",
       "      <td>74</td>\n",
       "      <td>5.48</td>\n",
       "      <td>0</td>\n",
       "    </tr>\n",
       "    <tr>\n",
       "      <th>38</th>\n",
       "      <td>70</td>\n",
       "      <td>5.59</td>\n",
       "      <td>0</td>\n",
       "    </tr>\n",
       "    <tr>\n",
       "      <th>39</th>\n",
       "      <td>73</td>\n",
       "      <td>5.03</td>\n",
       "      <td>0</td>\n",
       "    </tr>\n",
       "  </tbody>\n",
       "</table>\n",
       "</div>"
      ],
      "text/plain": [
       "    Weight  Size  Class\n",
       "0       69  4.39      1\n",
       "1       69  4.21      1\n",
       "2       65  4.09      1\n",
       "3       72  5.85      0\n",
       "4       67  4.70      1\n",
       "5       73  5.68      0\n",
       "6       70  5.56      0\n",
       "7       75  5.11      0\n",
       "8       74  5.36      0\n",
       "9       65  4.27      1\n",
       "10      73  5.79      0\n",
       "11      70  5.47      0\n",
       "12      74  5.53      0\n",
       "13      68  4.47      1\n",
       "14      74  5.22      0\n",
       "15      65  4.48      1\n",
       "16      69  4.66      1\n",
       "17      75  5.25      0\n",
       "18      67  4.18      1\n",
       "19      74  5.50      0\n",
       "20      66  4.13      1\n",
       "21      70  4.83      1\n",
       "22      69  4.61      1\n",
       "23      68  4.08      1\n",
       "24      67  4.25      1\n",
       "25      71  5.35      0\n",
       "26      67  4.01      1\n",
       "27      70  4.22      1\n",
       "28      74  5.25      0\n",
       "29      71  5.26      0\n",
       "30      73  5.78      0\n",
       "31      66  4.68      1\n",
       "32      72  5.72      0\n",
       "33      73  5.17      0\n",
       "34      68  4.83      1\n",
       "35      69  4.11      1\n",
       "36      69  4.76      1\n",
       "37      74  5.48      0\n",
       "38      70  5.59      0\n",
       "39      73  5.03      0"
      ]
     },
     "execution_count": 9,
     "metadata": {},
     "output_type": "execute_result"
    }
   ],
   "source": [
    "# Looking at the dataset again\n",
    "dataset"
   ]
  },
  {
   "cell_type": "markdown",
   "id": "dcf1e352",
   "metadata": {
    "papermill": {
     "duration": 0.032226,
     "end_time": "2022-03-16T15:18:59.457555",
     "exception": false,
     "start_time": "2022-03-16T15:18:59.425329",
     "status": "completed"
    },
    "tags": []
   },
   "source": [
    "## Plotting the dataset"
   ]
  },
  {
   "cell_type": "code",
   "execution_count": 10,
   "id": "2fbb9f7b",
   "metadata": {
    "execution": {
     "iopub.execute_input": "2022-03-16T15:18:59.530320Z",
     "iopub.status.busy": "2022-03-16T15:18:59.529130Z",
     "iopub.status.idle": "2022-03-16T15:19:00.070793Z",
     "shell.execute_reply": "2022-03-16T15:19:00.071402Z",
     "shell.execute_reply.started": "2022-03-16T15:14:29.305908Z"
    },
    "papermill": {
     "duration": 0.581487,
     "end_time": "2022-03-16T15:19:00.071609",
     "exception": false,
     "start_time": "2022-03-16T15:18:59.490122",
     "status": "completed"
    },
    "tags": []
   },
   "outputs": [
    {
     "data": {
      "image/png": "[encoded data removed]",
      "text/plain": [
       "<Figure size 864x648 with 1 Axes>"
      ]
     },
     "metadata": {},
     "output_type": "display_data"
    }
   ],
   "source": [
    "plt.figure(figsize=(12,9))\n",
    "plt.title('Apples and Oranges', fontweight='bold', fontsize=16)\n",
    "plt.xlabel('Weight')\n",
    "plt.ylabel('Size')\n",
    "scatter = plt.scatter(dataset['Weight'], dataset['Size'], c=dataset['Class'], cmap='viridis')\n",
    "plt.legend(*scatter.legend_elements(),\n",
    "           loc = 'upper left',\n",
    "           title = 'Class')\n",
    "plt.show()"
   ]
  },
  {
   "cell_type": "markdown",
   "id": "d971b53e",
   "metadata": {
    "papermill": {
     "duration": 0.03312,
     "end_time": "2022-03-16T15:19:00.141056",
     "exception": false,
     "start_time": "2022-03-16T15:19:00.107936",
     "status": "completed"
    },
    "tags": []
   },
   "source": [
    "We can observe that oranges have lower weight and size compared to apples. Further by drawing a straight line between these two groups of data points, we can clearly distinguish between apples and oranges."
   ]
  },
  {
   "cell_type": "markdown",
   "id": "906eabc9",
   "metadata": {
    "papermill": {
     "duration": 0.033368,
     "end_time": "2022-03-16T15:19:00.207896",
     "exception": false,
     "start_time": "2022-03-16T15:19:00.174528",
     "status": "completed"
    },
    "tags": []
   },
   "source": [
    "## Logistic Regression"
   ]
  },
  {
   "cell_type": "markdown",
   "id": "e4f13b27",
   "metadata": {
    "papermill": {
     "duration": 0.033276,
     "end_time": "2022-03-16T15:19:00.274817",
     "exception": false,
     "start_time": "2022-03-16T15:19:00.241541",
     "status": "completed"
    },
    "tags": []
   },
   "source": [
    "As we can clearly distinguish between apples and oranges using a straight line decision boundary, we can choose the hypothesis *y = a0 + a1 * x1 + a2 * x2* for Logistic Regression<br>\n",
    "where,<br>\n",
    "*a0*, *a1*, *a2* are the fitting parameters<br>\n",
    "*x1* is Weight<br>\n",
    "*x2* is Size"
   ]
  },
  {
   "cell_type": "code",
   "execution_count": 11,
   "id": "e0af3584",
   "metadata": {
    "execution": {
     "iopub.execute_input": "2022-03-16T15:19:00.355543Z",
     "iopub.status.busy": "2022-03-16T15:19:00.354763Z",
     "iopub.status.idle": "2022-03-16T15:19:00.356864Z",
     "shell.execute_reply": "2022-03-16T15:19:00.357396Z",
     "shell.execute_reply.started": "2022-03-16T15:14:29.810604Z"
    },
    "papermill": {
     "duration": 0.048252,
     "end_time": "2022-03-16T15:19:00.357587",
     "exception": false,
     "start_time": "2022-03-16T15:19:00.309335",
     "status": "completed"
    },
    "tags": []
   },
   "outputs": [],
   "source": [
    "# Defining target and features\n",
    "y = dataset['Class']\n",
    "x = dataset.drop(columns=['Class'])"
   ]
  },
  {
   "cell_type": "code",
   "execution_count": 12,
   "id": "0e30d45b",
   "metadata": {
    "execution": {
     "iopub.execute_input": "2022-03-16T15:19:00.430430Z",
     "iopub.status.busy": "2022-03-16T15:19:00.429715Z",
     "iopub.status.idle": "2022-03-16T15:19:00.433056Z",
     "shell.execute_reply": "2022-03-16T15:19:00.433543Z",
     "shell.execute_reply.started": "2022-03-16T15:14:29.818581Z"
    },
    "papermill": {
     "duration": 0.041186,
     "end_time": "2022-03-16T15:19:00.433720",
     "exception": false,
     "start_time": "2022-03-16T15:19:00.392534",
     "status": "completed"
    },
    "tags": []
   },
   "outputs": [],
   "source": [
    "# Creating object of LogisticRegression class\n",
    "log_reg = LogisticRegression()"
   ]
  },
  {
   "cell_type": "code",
   "execution_count": 13,
   "id": "395608c8",
   "metadata": {
    "execution": {
     "iopub.execute_input": "2022-03-16T15:19:00.510654Z",
     "iopub.status.busy": "2022-03-16T15:19:00.509598Z",
     "iopub.status.idle": "2022-03-16T15:19:00.530368Z",
     "shell.execute_reply": "2022-03-16T15:19:00.530942Z",
     "shell.execute_reply.started": "2022-03-16T15:14:29.832275Z"
    },
    "papermill": {
     "duration": 0.063223,
     "end_time": "2022-03-16T15:19:00.531137",
     "exception": false,
     "start_time": "2022-03-16T15:19:00.467914",
     "status": "completed"
    },
    "tags": []
   },
   "outputs": [
    {
     "data": {
      "text/plain": [
       "LogisticRegression()"
      ]
     },
     "execution_count": 13,
     "metadata": {},
     "output_type": "execute_result"
    }
   ],
   "source": [
    "# Fitting parameters\n",
    "log_reg.fit(x,y)"
   ]
  },
  {
   "cell_type": "code",
   "execution_count": 14,
   "id": "5bb3f8f5",
   "metadata": {
    "execution": {
     "iopub.execute_input": "2022-03-16T15:19:00.603331Z",
     "iopub.status.busy": "2022-03-16T15:19:00.602299Z",
     "iopub.status.idle": "2022-03-16T15:19:00.609067Z",
     "shell.execute_reply": "2022-03-16T15:19:00.608509Z",
     "shell.execute_reply.started": "2022-03-16T15:14:29.857678Z"
    },
    "papermill": {
     "duration": 0.044292,
     "end_time": "2022-03-16T15:19:00.609225",
     "exception": false,
     "start_time": "2022-03-16T15:19:00.564933",
     "status": "completed"
    },
    "tags": []
   },
   "outputs": [
    {
     "data": {
      "text/plain": [
       "array([106.60060152])"
      ]
     },
     "execution_count": 14,
     "metadata": {},
     "output_type": "execute_result"
    }
   ],
   "source": [
    "# Intercept - a0\n",
    "log_reg.intercept_"
   ]
  },
  {
   "cell_type": "code",
   "execution_count": 15,
   "id": "bfd98bbf",
   "metadata": {
    "execution": {
     "iopub.execute_input": "2022-03-16T15:19:00.684739Z",
     "iopub.status.busy": "2022-03-16T15:19:00.683787Z",
     "iopub.status.idle": "2022-03-16T15:19:00.687087Z",
     "shell.execute_reply": "2022-03-16T15:19:00.687591Z",
     "shell.execute_reply.started": "2022-03-16T15:14:29.868159Z"
    },
    "papermill": {
     "duration": 0.043882,
     "end_time": "2022-03-16T15:19:00.687773",
     "exception": false,
     "start_time": "2022-03-16T15:19:00.643891",
     "status": "completed"
    },
    "tags": []
   },
   "outputs": [
    {
     "data": {
      "text/plain": [
       "array([[-1.42830506, -1.31284213]])"
      ]
     },
     "execution_count": 15,
     "metadata": {},
     "output_type": "execute_result"
    }
   ],
   "source": [
    "# Coefficients - a1, a2 respectively\n",
    "log_reg.coef_"
   ]
  },
  {
   "cell_type": "code",
   "execution_count": 16,
   "id": "60212393",
   "metadata": {
    "execution": {
     "iopub.execute_input": "2022-03-16T15:19:00.764909Z",
     "iopub.status.busy": "2022-03-16T15:19:00.763830Z",
     "iopub.status.idle": "2022-03-16T15:19:00.766252Z",
     "shell.execute_reply": "2022-03-16T15:19:00.766864Z",
     "shell.execute_reply.started": "2022-03-16T15:14:29.880894Z"
    },
    "papermill": {
     "duration": 0.044715,
     "end_time": "2022-03-16T15:19:00.767056",
     "exception": false,
     "start_time": "2022-03-16T15:19:00.722341",
     "status": "completed"
    },
    "tags": []
   },
   "outputs": [],
   "source": [
    "# Predicting labels for the given dataset\n",
    "label_predictions = log_reg.predict(x)"
   ]
  },
  {
   "cell_type": "markdown",
   "id": "107d52fa",
   "metadata": {
    "papermill": {
     "duration": 0.036186,
     "end_time": "2022-03-16T15:19:00.840234",
     "exception": false,
     "start_time": "2022-03-16T15:19:00.804048",
     "status": "completed"
    },
    "tags": []
   },
   "source": [
    "## Decision Boundary"
   ]
  },
  {
   "cell_type": "code",
   "execution_count": 17,
   "id": "5c2fb9e5",
   "metadata": {
    "execution": {
     "iopub.execute_input": "2022-03-16T15:19:00.915160Z",
     "iopub.status.busy": "2022-03-16T15:19:00.914130Z",
     "iopub.status.idle": "2022-03-16T15:19:00.918753Z",
     "shell.execute_reply": "2022-03-16T15:19:00.919329Z",
     "shell.execute_reply.started": "2022-03-16T15:14:29.898568Z"
    },
    "papermill": {
     "duration": 0.044041,
     "end_time": "2022-03-16T15:19:00.919504",
     "exception": false,
     "start_time": "2022-03-16T15:19:00.875463",
     "status": "completed"
    },
    "tags": []
   },
   "outputs": [],
   "source": [
    "# Parameter values\n",
    "a0 = log_reg.intercept_[0]\n",
    "a1 = log_reg.coef_[0][0]\n",
    "a2 = log_reg.coef_[0][1]"
   ]
  },
  {
   "cell_type": "code",
   "execution_count": 18,
   "id": "f52a8597",
   "metadata": {
    "execution": {
     "iopub.execute_input": "2022-03-16T15:19:00.994313Z",
     "iopub.status.busy": "2022-03-16T15:19:00.993263Z",
     "iopub.status.idle": "2022-03-16T15:19:00.997938Z",
     "shell.execute_reply": "2022-03-16T15:19:00.998607Z",
     "shell.execute_reply.started": "2022-03-16T15:14:29.913464Z"
    },
    "papermill": {
     "duration": 0.044365,
     "end_time": "2022-03-16T15:19:00.998794",
     "exception": false,
     "start_time": "2022-03-16T15:19:00.954429",
     "status": "completed"
    },
    "tags": []
   },
   "outputs": [],
   "source": [
    "# Defining x1 and x2 values for decision boundary\n",
    "x1 = np.array([69, 71])\n",
    "x2 = (-a0 - (a1 * x1)) / a2"
   ]
  },
  {
   "cell_type": "code",
   "execution_count": 19,
   "id": "f743e690",
   "metadata": {
    "execution": {
     "iopub.execute_input": "2022-03-16T15:19:01.090740Z",
     "iopub.status.busy": "2022-03-16T15:19:01.084479Z",
     "iopub.status.idle": "2022-03-16T15:19:01.376555Z",
     "shell.execute_reply": "2022-03-16T15:19:01.375939Z",
     "shell.execute_reply.started": "2022-03-16T15:14:29.924541Z"
    },
    "papermill": {
     "duration": 0.341816,
     "end_time": "2022-03-16T15:19:01.376709",
     "exception": false,
     "start_time": "2022-03-16T15:19:01.034893",
     "status": "completed"
    },
    "tags": []
   },
   "outputs": [
    {
     "data": {
      "image/png": "[encoded data removed]",
      "text/plain": [
       "<Figure size 864x648 with 1 Axes>"
      ]
     },
     "metadata": {},
     "output_type": "display_data"
    }
   ],
   "source": [
    "# Plotting the decision boundary\n",
    "plt.figure(figsize=(12,9))\n",
    "plt.title('Apples and Oranges', fontweight='bold', fontsize=16)\n",
    "plt.xlabel('Weight')\n",
    "plt.ylabel('Size')\n",
    "scatter = plt.scatter(dataset['Weight'], dataset['Size'], c=dataset['Class'], cmap='viridis')\n",
    "plt.legend(*scatter.legend_elements(),\n",
    "           loc = 'upper left',\n",
    "           title = 'Class')\n",
    "plt.plot(x1, x2, color='red', label='Decision Boundary')\n",
    "plt.show()"
   ]
  },
  {
   "cell_type": "markdown",
   "id": "126068b4",
   "metadata": {
    "papermill": {
     "duration": 0.035599,
     "end_time": "2022-03-16T15:19:01.450732",
     "exception": false,
     "start_time": "2022-03-16T15:19:01.415133",
     "status": "completed"
    },
    "tags": []
   },
   "source": [
    "We can observe that the red line which represents the decision boundary clearly separates apples and oranges. On the left we have oranges and on the right we have apples."
   ]
  },
  {
   "cell_type": "markdown",
   "id": "ed5ea1f8",
   "metadata": {
    "papermill": {
     "duration": 0.035774,
     "end_time": "2022-03-16T15:19:01.523893",
     "exception": false,
     "start_time": "2022-03-16T15:19:01.488119",
     "status": "completed"
    },
    "tags": []
   },
   "source": [
    "## Accuracy score"
   ]
  },
  {
   "cell_type": "code",
   "execution_count": 20,
   "id": "e61e0987",
   "metadata": {
    "execution": {
     "iopub.execute_input": "2022-03-16T15:19:01.603730Z",
     "iopub.status.busy": "2022-03-16T15:19:01.602736Z",
     "iopub.status.idle": "2022-03-16T15:19:01.606773Z",
     "shell.execute_reply": "2022-03-16T15:19:01.606136Z",
     "shell.execute_reply.started": "2022-03-16T15:14:30.225574Z"
    },
    "papermill": {
     "duration": 0.046789,
     "end_time": "2022-03-16T15:19:01.606913",
     "exception": false,
     "start_time": "2022-03-16T15:19:01.560124",
     "status": "completed"
    },
    "tags": []
   },
   "outputs": [
    {
     "data": {
      "text/plain": [
       "1.0"
      ]
     },
     "execution_count": 20,
     "metadata": {},
     "output_type": "execute_result"
    }
   ],
   "source": [
    "accuracy_score(y, label_predictions)"
   ]
  },
  {
   "cell_type": "markdown",
   "id": "014a7f02",
   "metadata": {
    "papermill": {
     "duration": 0.037388,
     "end_time": "2022-03-16T15:19:01.681448",
     "exception": false,
     "start_time": "2022-03-16T15:19:01.644060",
     "status": "completed"
    },
    "tags": []
   },
   "source": [
    "## Confusion Matrix"
   ]
  },
  {
   "cell_type": "code",
   "execution_count": 21,
   "id": "95d88312",
   "metadata": {
    "execution": {
     "iopub.execute_input": "2022-03-16T15:19:01.758275Z",
     "iopub.status.busy": "2022-03-16T15:19:01.757246Z",
     "iopub.status.idle": "2022-03-16T15:19:01.764921Z",
     "shell.execute_reply": "2022-03-16T15:19:01.765459Z",
     "shell.execute_reply.started": "2022-03-16T15:14:30.236796Z"
    },
    "papermill": {
     "duration": 0.047997,
     "end_time": "2022-03-16T15:19:01.765635",
     "exception": false,
     "start_time": "2022-03-16T15:19:01.717638",
     "status": "completed"
    },
    "tags": []
   },
   "outputs": [
    {
     "data": {
      "text/plain": [
       "array([[20,  0],\n",
       "       [ 0, 20]])"
      ]
     },
     "execution_count": 21,
     "metadata": {},
     "output_type": "execute_result"
    }
   ],
   "source": [
    "cm = confusion_matrix(y, label_predictions)\n",
    "cm"
   ]
  },
  {
   "cell_type": "code",
   "execution_count": 22,
   "id": "6bd7f39f",
   "metadata": {
    "execution": {
     "iopub.execute_input": "2022-03-16T15:19:01.846810Z",
     "iopub.status.busy": "2022-03-16T15:19:01.842875Z",
     "iopub.status.idle": "2022-03-16T15:19:02.086326Z",
     "shell.execute_reply": "2022-03-16T15:19:02.085645Z",
     "shell.execute_reply.started": "2022-03-16T15:14:30.249128Z"
    },
    "papermill": {
     "duration": 0.283635,
     "end_time": "2022-03-16T15:19:02.086482",
     "exception": false,
     "start_time": "2022-03-16T15:19:01.802847",
     "status": "completed"
    },
    "tags": []
   },
   "outputs": [
    {
     "data": {
      "image/png": "[encoded data removed]",
      "text/plain": [
       "<Figure size 432x288 with 2 Axes>"
      ]
     },
     "metadata": {},
     "output_type": "display_data"
    }
   ],
   "source": [
    "labels = ['True Neg', 'False Pos', 'False Neg', 'True Pos']\n",
    "labels = np.asarray(labels).reshape(2,2)\n",
    "\n",
    "sns.heatmap(cm, annot=labels, fmt='', cmap='Blues')\n",
    "plt.show()"
   ]
  }
 ],
 "metadata": {
  "kernelspec": {
   "display_name": "Python 3",
   "language": "python",
   "name": "python3"
  },
  "language_info": {
   "codemirror_mode": {
    "name": "ipython",
    "version": 3
   },
   "file_extension": ".py",
   "mimetype": "text/x-python",
   "name": "python",
   "nbconvert_exporter": "python",
   "pygments_lexer": "ipython3",
   "version": "3.7.12"
  },
  "papermill": {
   "default_parameters": {},
   "duration": 16.157918,
   "end_time": "2022-03-16T15:19:02.934414",
   "environment_variables": {},
   "exception": null,
   "input_path": "__notebook__.ipynb",
   "output_path": "__notebook__.ipynb",
   "parameters": {},
   "start_time": "2022-03-16T15:18:46.776496",
   "version": "2.3.3"
  }
 },
 "nbformat": 4,
 "nbformat_minor": 5
}
